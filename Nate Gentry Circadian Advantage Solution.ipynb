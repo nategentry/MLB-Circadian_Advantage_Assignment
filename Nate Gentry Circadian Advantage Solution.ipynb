{
 "cells": [
  {
   "cell_type": "markdown",
   "metadata": {
    "collapsed": true
   },
   "source": [
    "# Nate Gentry's MLB Circadian Advantage Solution"
   ]
  },
  {
   "cell_type": "markdown",
   "metadata": {},
   "source": [
    "First things first I imported the relevant libraries."
   ]
  },
  {
   "cell_type": "code",
   "execution_count": 1,
   "metadata": {
    "collapsed": true
   },
   "outputs": [],
   "source": [
    "import pandas as pd\n",
    "import numpy as np\n",
    "import scipy.stats as stats\n",
    "from math import sqrt\n",
    "import requests"
   ]
  },
  {
   "cell_type": "markdown",
   "metadata": {},
   "source": [
    "Next up I pulled in the CSV for the case from Github and printed a sample to make sure everything looked ok."
   ]
  },
  {
   "cell_type": "code",
   "execution_count": 2,
   "metadata": {
    "collapsed": false
   },
   "outputs": [
    {
     "name": "stdout",
     "output_type": "stream",
     "text": [
      "        Game         Team     Date  Year H/A W/L  CT  CTopp\n",
      "3349    3350      Oakland   8/4/98  1998   h   l   0      0\n",
      "29759  29760  Los Angeles  4/29/04  2004   h   l   0      0\n",
      "18606  18607    Cleveland   9/1/01  2001   a   w   0      0\n",
      "42273  42274      Arizona  8/11/06  2006   h   l   0     -3\n",
      "39213  39214      Toronto  4/16/06  2006   a   l   0      0\n"
     ]
    }
   ],
   "source": [
    "url = ('https://raw.githubusercontent.com/johnjfox/Analytic_Enterprise/master/data/circadian/circadian.csv')\n",
    "df = pd.read_csv(url)\n",
    "print df.sample(5)"
   ]
  },
  {
   "cell_type": "markdown",
   "metadata": {},
   "source": [
    "The first thing I wanted to do with the dataset was to add a column for the calculated Circadian Advantage for the subject team of each game. Since the advantage is determined by hours away from zero and not positive or negative I created two new columns that converted the existing 'CT' and 'CTopp' columns into absolute values. Finally I created a column that subtracted the absolute value of the subject's CT hours from that of their opponent to determine the Circadian Advantage of each game."
   ]
  },
  {
   "cell_type": "code",
   "execution_count": 3,
   "metadata": {
    "collapsed": false
   },
   "outputs": [
    {
     "data": {
      "text/html": [
       "<div>\n",
       "<table border=\"1\" class=\"dataframe\">\n",
       "  <thead>\n",
       "    <tr style=\"text-align: right;\">\n",
       "      <th></th>\n",
       "      <th>Game</th>\n",
       "      <th>Team</th>\n",
       "      <th>Date</th>\n",
       "      <th>Year</th>\n",
       "      <th>H/A</th>\n",
       "      <th>W/L</th>\n",
       "      <th>CT</th>\n",
       "      <th>CTopp</th>\n",
       "      <th>CT_Abs</th>\n",
       "      <th>CTopp_Abs</th>\n",
       "      <th>CTadv</th>\n",
       "    </tr>\n",
       "  </thead>\n",
       "  <tbody>\n",
       "    <tr>\n",
       "      <th>23751</th>\n",
       "      <td>23752</td>\n",
       "      <td>Tampa Bay</td>\n",
       "      <td>9/10/02</td>\n",
       "      <td>2002</td>\n",
       "      <td>h</td>\n",
       "      <td>l</td>\n",
       "      <td>0</td>\n",
       "      <td>0</td>\n",
       "      <td>0</td>\n",
       "      <td>0</td>\n",
       "      <td>0</td>\n",
       "    </tr>\n",
       "    <tr>\n",
       "      <th>19863</th>\n",
       "      <td>19864</td>\n",
       "      <td>Baltimore</td>\n",
       "      <td>4/18/02</td>\n",
       "      <td>2002</td>\n",
       "      <td>a</td>\n",
       "      <td>l</td>\n",
       "      <td>0</td>\n",
       "      <td>0</td>\n",
       "      <td>0</td>\n",
       "      <td>0</td>\n",
       "      <td>0</td>\n",
       "    </tr>\n",
       "    <tr>\n",
       "      <th>20427</th>\n",
       "      <td>20428</td>\n",
       "      <td>NY Yankees</td>\n",
       "      <td>5/9/02</td>\n",
       "      <td>2002</td>\n",
       "      <td>a</td>\n",
       "      <td>w</td>\n",
       "      <td>0</td>\n",
       "      <td>0</td>\n",
       "      <td>0</td>\n",
       "      <td>0</td>\n",
       "      <td>0</td>\n",
       "    </tr>\n",
       "    <tr>\n",
       "      <th>10894</th>\n",
       "      <td>10895</td>\n",
       "      <td>San Diego</td>\n",
       "      <td>5/18/00</td>\n",
       "      <td>2000</td>\n",
       "      <td>a</td>\n",
       "      <td>w</td>\n",
       "      <td>0</td>\n",
       "      <td>0</td>\n",
       "      <td>0</td>\n",
       "      <td>0</td>\n",
       "      <td>0</td>\n",
       "    </tr>\n",
       "    <tr>\n",
       "      <th>20934</th>\n",
       "      <td>20935</td>\n",
       "      <td>Minnesota</td>\n",
       "      <td>5/28/02</td>\n",
       "      <td>2002</td>\n",
       "      <td>a</td>\n",
       "      <td>w</td>\n",
       "      <td>1</td>\n",
       "      <td>0</td>\n",
       "      <td>1</td>\n",
       "      <td>0</td>\n",
       "      <td>-1</td>\n",
       "    </tr>\n",
       "  </tbody>\n",
       "</table>\n",
       "</div>"
      ],
      "text/plain": [
       "        Game        Team     Date  Year H/A W/L  CT  CTopp  CT_Abs  CTopp_Abs  \\\n",
       "23751  23752   Tampa Bay  9/10/02  2002   h   l   0      0       0          0   \n",
       "19863  19864   Baltimore  4/18/02  2002   a   l   0      0       0          0   \n",
       "20427  20428  NY Yankees   5/9/02  2002   a   w   0      0       0          0   \n",
       "10894  10895   San Diego  5/18/00  2000   a   w   0      0       0          0   \n",
       "20934  20935   Minnesota  5/28/02  2002   a   w   1      0       1          0   \n",
       "\n",
       "       CTadv  \n",
       "23751      0  \n",
       "19863      0  \n",
       "20427      0  \n",
       "10894      0  \n",
       "20934     -1  "
      ]
     },
     "execution_count": 3,
     "metadata": {},
     "output_type": "execute_result"
    }
   ],
   "source": [
    "df['CT_Abs'] = df['CT'].abs()\n",
    "df['CTopp_Abs'] = df['CTopp'].abs()\n",
    "df['CTadv'] = df['CTopp_Abs'] - df['CT_Abs']\n",
    "df.sample(5)"
   ]
  },
  {
   "cell_type": "markdown",
   "metadata": {},
   "source": [
    "Next I converted the 'W/L' column from 'w' and 'l' variables into a 1 for wins and a 0 for losses so I could more easily manipulate the data later on. I named the resulting column 'Won_Game'."
   ]
  },
  {
   "cell_type": "code",
   "execution_count": 4,
   "metadata": {
    "collapsed": false
   },
   "outputs": [
    {
     "data": {
      "text/html": [
       "<div>\n",
       "<table border=\"1\" class=\"dataframe\">\n",
       "  <thead>\n",
       "    <tr style=\"text-align: right;\">\n",
       "      <th></th>\n",
       "      <th>Game</th>\n",
       "      <th>Team</th>\n",
       "      <th>Date</th>\n",
       "      <th>Year</th>\n",
       "      <th>H/A</th>\n",
       "      <th>CT</th>\n",
       "      <th>CTopp</th>\n",
       "      <th>CT_Abs</th>\n",
       "      <th>CTopp_Abs</th>\n",
       "      <th>CTadv</th>\n",
       "      <th>Won_Game</th>\n",
       "    </tr>\n",
       "  </thead>\n",
       "  <tbody>\n",
       "    <tr>\n",
       "      <th>34185</th>\n",
       "      <td>34186</td>\n",
       "      <td>Seattle</td>\n",
       "      <td>4/11/05</td>\n",
       "      <td>2005</td>\n",
       "      <td>a</td>\n",
       "      <td>2</td>\n",
       "      <td>2</td>\n",
       "      <td>2</td>\n",
       "      <td>2</td>\n",
       "      <td>0</td>\n",
       "      <td>1</td>\n",
       "    </tr>\n",
       "    <tr>\n",
       "      <th>38820</th>\n",
       "      <td>38821</td>\n",
       "      <td>Anaheim</td>\n",
       "      <td>10/2/05</td>\n",
       "      <td>2005</td>\n",
       "      <td>a</td>\n",
       "      <td>0</td>\n",
       "      <td>0</td>\n",
       "      <td>0</td>\n",
       "      <td>0</td>\n",
       "      <td>0</td>\n",
       "      <td>1</td>\n",
       "    </tr>\n",
       "    <tr>\n",
       "      <th>15861</th>\n",
       "      <td>15862</td>\n",
       "      <td>Nationals</td>\n",
       "      <td>5/21/01</td>\n",
       "      <td>2001</td>\n",
       "      <td>h</td>\n",
       "      <td>0</td>\n",
       "      <td>0</td>\n",
       "      <td>0</td>\n",
       "      <td>0</td>\n",
       "      <td>0</td>\n",
       "      <td>0</td>\n",
       "    </tr>\n",
       "    <tr>\n",
       "      <th>28222</th>\n",
       "      <td>28223</td>\n",
       "      <td>Houston</td>\n",
       "      <td>8/27/03</td>\n",
       "      <td>2003</td>\n",
       "      <td>h</td>\n",
       "      <td>0</td>\n",
       "      <td>0</td>\n",
       "      <td>0</td>\n",
       "      <td>0</td>\n",
       "      <td>0</td>\n",
       "      <td>1</td>\n",
       "    </tr>\n",
       "    <tr>\n",
       "      <th>16797</th>\n",
       "      <td>16798</td>\n",
       "      <td>Philadelphia</td>\n",
       "      <td>6/25/01</td>\n",
       "      <td>2001</td>\n",
       "      <td>h</td>\n",
       "      <td>0</td>\n",
       "      <td>0</td>\n",
       "      <td>0</td>\n",
       "      <td>0</td>\n",
       "      <td>0</td>\n",
       "      <td>0</td>\n",
       "    </tr>\n",
       "  </tbody>\n",
       "</table>\n",
       "</div>"
      ],
      "text/plain": [
       "        Game          Team     Date  Year H/A  CT  CTopp  CT_Abs  CTopp_Abs  \\\n",
       "34185  34186       Seattle  4/11/05  2005   a   2      2       2          2   \n",
       "38820  38821       Anaheim  10/2/05  2005   a   0      0       0          0   \n",
       "15861  15862     Nationals  5/21/01  2001   h   0      0       0          0   \n",
       "28222  28223       Houston  8/27/03  2003   h   0      0       0          0   \n",
       "16797  16798  Philadelphia  6/25/01  2001   h   0      0       0          0   \n",
       "\n",
       "       CTadv  Won_Game  \n",
       "34185      0         1  \n",
       "38820      0         1  \n",
       "15861      0         0  \n",
       "28222      0         1  \n",
       "16797      0         0  "
      ]
     },
     "execution_count": 4,
     "metadata": {},
     "output_type": "execute_result"
    }
   ],
   "source": [
    "df['W/L_New'] = np.where(df['W/L']=='w',1,0)\n",
    "df = df.drop({'W/L'}, axis=1)\n",
    "df = df.rename(columns={'W/L_New': 'Won_Game'})\n",
    "\n",
    "df.sample(5)"
   ]
  },
  {
   "cell_type": "markdown",
   "metadata": {},
   "source": [
    "The next column I added to the dataset was a categorical dataframe that labeled each game as either one in which the subject team had a Circadian Advantage '+', Disadvantage '-', or no difference '0\". I named the new column 'CTadvCat'."
   ]
  },
  {
   "cell_type": "code",
   "execution_count": 5,
   "metadata": {
    "collapsed": false
   },
   "outputs": [
    {
     "data": {
      "text/html": [
       "<div>\n",
       "<table border=\"1\" class=\"dataframe\">\n",
       "  <thead>\n",
       "    <tr style=\"text-align: right;\">\n",
       "      <th></th>\n",
       "      <th>Game</th>\n",
       "      <th>Team</th>\n",
       "      <th>Date</th>\n",
       "      <th>Year</th>\n",
       "      <th>H/A</th>\n",
       "      <th>CT</th>\n",
       "      <th>CTopp</th>\n",
       "      <th>CT_Abs</th>\n",
       "      <th>CTopp_Abs</th>\n",
       "      <th>CTadv</th>\n",
       "      <th>Won_Game</th>\n",
       "      <th>CTadvCat</th>\n",
       "    </tr>\n",
       "  </thead>\n",
       "  <tbody>\n",
       "    <tr>\n",
       "      <th>2181</th>\n",
       "      <td>2182</td>\n",
       "      <td>Cincinnati</td>\n",
       "      <td>6/21/98</td>\n",
       "      <td>1998</td>\n",
       "      <td>a</td>\n",
       "      <td>0</td>\n",
       "      <td>0</td>\n",
       "      <td>0</td>\n",
       "      <td>0</td>\n",
       "      <td>0</td>\n",
       "      <td>0</td>\n",
       "      <td>0</td>\n",
       "    </tr>\n",
       "    <tr>\n",
       "      <th>7197</th>\n",
       "      <td>7198</td>\n",
       "      <td>Minnesota</td>\n",
       "      <td>7/1/99</td>\n",
       "      <td>1999</td>\n",
       "      <td>a</td>\n",
       "      <td>0</td>\n",
       "      <td>0</td>\n",
       "      <td>0</td>\n",
       "      <td>0</td>\n",
       "      <td>0</td>\n",
       "      <td>0</td>\n",
       "      <td>0</td>\n",
       "    </tr>\n",
       "    <tr>\n",
       "      <th>6187</th>\n",
       "      <td>6188</td>\n",
       "      <td>Tampa Bay</td>\n",
       "      <td>5/25/99</td>\n",
       "      <td>1999</td>\n",
       "      <td>h</td>\n",
       "      <td>0</td>\n",
       "      <td>0</td>\n",
       "      <td>0</td>\n",
       "      <td>0</td>\n",
       "      <td>0</td>\n",
       "      <td>0</td>\n",
       "      <td>0</td>\n",
       "    </tr>\n",
       "    <tr>\n",
       "      <th>24051</th>\n",
       "      <td>24052</td>\n",
       "      <td>NY Mets</td>\n",
       "      <td>9/21/02</td>\n",
       "      <td>2002</td>\n",
       "      <td>h</td>\n",
       "      <td>0</td>\n",
       "      <td>0</td>\n",
       "      <td>0</td>\n",
       "      <td>0</td>\n",
       "      <td>0</td>\n",
       "      <td>1</td>\n",
       "      <td>0</td>\n",
       "    </tr>\n",
       "    <tr>\n",
       "      <th>42407</th>\n",
       "      <td>42408</td>\n",
       "      <td>Philadelphia</td>\n",
       "      <td>8/15/06</td>\n",
       "      <td>2006</td>\n",
       "      <td>h</td>\n",
       "      <td>0</td>\n",
       "      <td>0</td>\n",
       "      <td>0</td>\n",
       "      <td>0</td>\n",
       "      <td>0</td>\n",
       "      <td>1</td>\n",
       "      <td>0</td>\n",
       "    </tr>\n",
       "  </tbody>\n",
       "</table>\n",
       "</div>"
      ],
      "text/plain": [
       "        Game          Team     Date  Year H/A  CT  CTopp  CT_Abs  CTopp_Abs  \\\n",
       "2181    2182    Cincinnati  6/21/98  1998   a   0      0       0          0   \n",
       "7197    7198     Minnesota   7/1/99  1999   a   0      0       0          0   \n",
       "6187    6188     Tampa Bay  5/25/99  1999   h   0      0       0          0   \n",
       "24051  24052       NY Mets  9/21/02  2002   h   0      0       0          0   \n",
       "42407  42408  Philadelphia  8/15/06  2006   h   0      0       0          0   \n",
       "\n",
       "       CTadv  Won_Game CTadvCat  \n",
       "2181       0         0        0  \n",
       "7197       0         0        0  \n",
       "6187       0         0        0  \n",
       "24051      0         1        0  \n",
       "42407      0         1        0  "
      ]
     },
     "execution_count": 5,
     "metadata": {},
     "output_type": "execute_result"
    }
   ],
   "source": [
    "df['CTadvCat'] = 0\n",
    "df.ix[df.CTadv > 0,'CTadvCat'] = '+'\n",
    "df.ix[df.CTadv < 0,'CTadvCat'] = '-'\n",
    "df.sample(5)"
   ]
  },
  {
   "cell_type": "markdown",
   "metadata": {},
   "source": [
    "Now that I had all of the new columns I needed, I decided to drop the columns I didn't need from the dataframe. This included the game identifiers such as 'Game', 'Team', 'Date', and 'Year'. I also dropped the columns which were used to calculate the new columns I added and were now irrelevent to the analysis."
   ]
  },
  {
   "cell_type": "code",
   "execution_count": 6,
   "metadata": {
    "collapsed": false
   },
   "outputs": [
    {
     "data": {
      "text/html": [
       "<div>\n",
       "<table border=\"1\" class=\"dataframe\">\n",
       "  <thead>\n",
       "    <tr style=\"text-align: right;\">\n",
       "      <th></th>\n",
       "      <th>H/A</th>\n",
       "      <th>CTadv</th>\n",
       "      <th>Won_Game</th>\n",
       "      <th>CTadvCat</th>\n",
       "    </tr>\n",
       "  </thead>\n",
       "  <tbody>\n",
       "    <tr>\n",
       "      <th>21924</th>\n",
       "      <td>a</td>\n",
       "      <td>0</td>\n",
       "      <td>1</td>\n",
       "      <td>0</td>\n",
       "    </tr>\n",
       "    <tr>\n",
       "      <th>21792</th>\n",
       "      <td>a</td>\n",
       "      <td>0</td>\n",
       "      <td>1</td>\n",
       "      <td>0</td>\n",
       "    </tr>\n",
       "    <tr>\n",
       "      <th>13700</th>\n",
       "      <td>h</td>\n",
       "      <td>1</td>\n",
       "      <td>1</td>\n",
       "      <td>+</td>\n",
       "    </tr>\n",
       "    <tr>\n",
       "      <th>5167</th>\n",
       "      <td>h</td>\n",
       "      <td>0</td>\n",
       "      <td>0</td>\n",
       "      <td>0</td>\n",
       "    </tr>\n",
       "    <tr>\n",
       "      <th>31171</th>\n",
       "      <td>a</td>\n",
       "      <td>0</td>\n",
       "      <td>0</td>\n",
       "      <td>0</td>\n",
       "    </tr>\n",
       "  </tbody>\n",
       "</table>\n",
       "</div>"
      ],
      "text/plain": [
       "      H/A  CTadv  Won_Game CTadvCat\n",
       "21924   a      0         1        0\n",
       "21792   a      0         1        0\n",
       "13700   h      1         1        +\n",
       "5167    h      0         0        0\n",
       "31171   a      0         0        0"
      ]
     },
     "execution_count": 6,
     "metadata": {},
     "output_type": "execute_result"
    }
   ],
   "source": [
    "df = df.drop({'Game','Team','Date','Year','CT','CTopp','CT_Abs','CTopp_Abs'}, axis=1)\n",
    "df.sample(5)"
   ]
  },
  {
   "cell_type": "markdown",
   "metadata": {},
   "source": [
    "For my next action I decided to filter the dataset down to just Home games played. This was done because as the case mentions, every game is represented in the data with a row for each of the two teams that played in it. This means that for each subject row there is an inverse row for the same game. I felt that this duplication would not give an accurate representation of the data in my analysis and as such removed all of the away games."
   ]
  },
  {
   "cell_type": "code",
   "execution_count": 7,
   "metadata": {
    "collapsed": false
   },
   "outputs": [
    {
     "data": {
      "text/html": [
       "<div>\n",
       "<table border=\"1\" class=\"dataframe\">\n",
       "  <thead>\n",
       "    <tr style=\"text-align: right;\">\n",
       "      <th></th>\n",
       "      <th>H/A</th>\n",
       "      <th>CTadv</th>\n",
       "      <th>Won_Game</th>\n",
       "      <th>CTadvCat</th>\n",
       "    </tr>\n",
       "  </thead>\n",
       "  <tbody>\n",
       "    <tr>\n",
       "      <th>40144</th>\n",
       "      <td>h</td>\n",
       "      <td>0</td>\n",
       "      <td>0</td>\n",
       "      <td>0</td>\n",
       "    </tr>\n",
       "    <tr>\n",
       "      <th>19470</th>\n",
       "      <td>h</td>\n",
       "      <td>0</td>\n",
       "      <td>0</td>\n",
       "      <td>0</td>\n",
       "    </tr>\n",
       "    <tr>\n",
       "      <th>6488</th>\n",
       "      <td>h</td>\n",
       "      <td>0</td>\n",
       "      <td>1</td>\n",
       "      <td>0</td>\n",
       "    </tr>\n",
       "    <tr>\n",
       "      <th>30007</th>\n",
       "      <td>h</td>\n",
       "      <td>0</td>\n",
       "      <td>1</td>\n",
       "      <td>0</td>\n",
       "    </tr>\n",
       "    <tr>\n",
       "      <th>26879</th>\n",
       "      <td>h</td>\n",
       "      <td>1</td>\n",
       "      <td>1</td>\n",
       "      <td>+</td>\n",
       "    </tr>\n",
       "  </tbody>\n",
       "</table>\n",
       "</div>"
      ],
      "text/plain": [
       "      H/A  CTadv  Won_Game CTadvCat\n",
       "40144   h      0         0        0\n",
       "19470   h      0         0        0\n",
       "6488    h      0         1        0\n",
       "30007   h      0         1        0\n",
       "26879   h      1         1        +"
      ]
     },
     "execution_count": 7,
     "metadata": {},
     "output_type": "execute_result"
    }
   ],
   "source": [
    "df = df[df['H/A']=='h']\n",
    "df.sample(5)"
   ]
  },
  {
   "cell_type": "markdown",
   "metadata": {},
   "source": [
    "The next step in my analysis was to pivot the dataset in order to determine the winning percentage for games in which the home team had either a positive, negative, or no Circadian Advantage. To do this I made a pivot table that indexed on the 'CTadvCat' column and returned values based on the 'Won_Game' column. Using the aggfunc option in the pivot table code, I was able to have one column that showed the number games won (sum) and number of games played (count) for each category. I then added a column that divided the wins by total games played to determine a winning percentage for each category, this column was titled 'Home_WinPct'."
   ]
  },
  {
   "cell_type": "code",
   "execution_count": 8,
   "metadata": {
    "collapsed": false
   },
   "outputs": [
    {
     "data": {
      "text/html": [
       "<div>\n",
       "<table border=\"1\" class=\"dataframe\">\n",
       "  <thead>\n",
       "    <tr style=\"text-align: right;\">\n",
       "      <th></th>\n",
       "      <th>Home_Wins</th>\n",
       "      <th>Home_Games</th>\n",
       "      <th>Home_WinPct</th>\n",
       "    </tr>\n",
       "    <tr>\n",
       "      <th>CTadvCat</th>\n",
       "      <th></th>\n",
       "      <th></th>\n",
       "      <th></th>\n",
       "    </tr>\n",
       "  </thead>\n",
       "  <tbody>\n",
       "    <tr>\n",
       "      <th>0</th>\n",
       "      <td>9224</td>\n",
       "      <td>17268</td>\n",
       "      <td>0.534167</td>\n",
       "    </tr>\n",
       "    <tr>\n",
       "      <th>+</th>\n",
       "      <td>1840</td>\n",
       "      <td>3360</td>\n",
       "      <td>0.547619</td>\n",
       "    </tr>\n",
       "    <tr>\n",
       "      <th>-</th>\n",
       "      <td>676</td>\n",
       "      <td>1227</td>\n",
       "      <td>0.550937</td>\n",
       "    </tr>\n",
       "  </tbody>\n",
       "</table>\n",
       "</div>"
      ],
      "text/plain": [
       "          Home_Wins  Home_Games  Home_WinPct\n",
       "CTadvCat                                    \n",
       "0              9224       17268     0.534167\n",
       "+              1840        3360     0.547619\n",
       "-               676        1227     0.550937"
      ]
     },
     "execution_count": 8,
     "metadata": {},
     "output_type": "execute_result"
    }
   ],
   "source": [
    "pivot = pd.pivot_table(df, index=('CTadvCat'), values = 'Won_Game', aggfunc = ('sum', 'count'))\n",
    "pivot['Home_WinPct'] = pivot['sum'] / pivot['count']\n",
    "pivot.rename(columns={'sum': 'Home_Wins','count': 'Home_Games'}, inplace=True)\n",
    "pivot"
   ]
  },
  {
   "cell_type": "markdown",
   "metadata": {},
   "source": [
    "With wins and games (successes and sample sizes) as well as winning percentages (proportions) for each category, I was ready to run a hypothesis test with the data. I first used the no advantage category as my null hypothesis sample and the positive advantage category as my test hypothesis and plugged the data into the Z-Test equation for proportions. I then converted the resulting Z-Value into a P-Value."
   ]
  },
  {
   "cell_type": "code",
   "execution_count": 9,
   "metadata": {
    "collapsed": false
   },
   "outputs": [
    {
     "data": {
      "text/plain": [
       "1.4306184249952527"
      ]
     },
     "execution_count": 9,
     "metadata": {},
     "output_type": "execute_result"
    }
   ],
   "source": [
    "Ratio_Diff_Adv = pivot.iloc[1][2] - pivot.iloc[0][2]\n",
    "Pop_Proportion_Adv = ((pivot.iloc[0][0] + pivot.iloc[1][0]) / (pivot.iloc[0][1] + pivot.iloc[1][1]))\n",
    "Std_Error_Adv = np.sqrt((Pop_Proportion_Adv*(1-Pop_Proportion_Adv))*((1/(pivot.iloc[1][1])+(1/(pivot.iloc[0][1])))))\n",
    "z_test_Adv = Ratio_Diff_Adv / Std_Error_Adv\n",
    "z_test_Adv"
   ]
  },
  {
   "cell_type": "code",
   "execution_count": 10,
   "metadata": {
    "collapsed": false
   },
   "outputs": [
    {
     "data": {
      "text/plain": [
       "0.076269801971357132"
      ]
     },
     "execution_count": 10,
     "metadata": {},
     "output_type": "execute_result"
    }
   ],
   "source": [
    "p_value_Adv = stats.norm.sf(abs(z_test_Adv))\n",
    "p_value_Adv"
   ]
  },
  {
   "cell_type": "markdown",
   "metadata": {},
   "source": [
    "Next I did the same calculation but with the negative advantage category as the test hypothesis."
   ]
  },
  {
   "cell_type": "code",
   "execution_count": 11,
   "metadata": {
    "collapsed": false
   },
   "outputs": [
    {
     "data": {
      "text/plain": [
       "1.1380542948766821"
      ]
     },
     "execution_count": 11,
     "metadata": {},
     "output_type": "execute_result"
    }
   ],
   "source": [
    "Ratio_Diff_NegAdv = pivot.iloc[2][2] - pivot.iloc[0][2]\n",
    "Pop_Proportion_NegAdv = ((pivot.iloc[0][0] + pivot.iloc[2][0]) / (pivot.iloc[0][1] + pivot.iloc[2][1]))\n",
    "Std_Error_NegAdv = np.sqrt((Pop_Proportion_NegAdv*(1-Pop_Proportion_NegAdv))*((1/(pivot.iloc[2][1])+(1/(pivot.iloc[0][1])))))\n",
    "z_test_NegAdv = Ratio_Diff_NegAdv / Std_Error_NegAdv\n",
    "z_test_NegAdv"
   ]
  },
  {
   "cell_type": "code",
   "execution_count": 12,
   "metadata": {
    "collapsed": false
   },
   "outputs": [
    {
     "data": {
      "text/plain": [
       "0.12754890567837712"
      ]
     },
     "execution_count": 12,
     "metadata": {},
     "output_type": "execute_result"
    }
   ],
   "source": [
    "p_value_NegAdv = stats.norm.sf(abs(z_test_NegAdv))\n",
    "p_value_NegAdv"
   ]
  },
  {
   "cell_type": "markdown",
   "metadata": {},
   "source": [
    "## Summary\n",
    "\n",
    "My analysis of the data showed that for the games in the dataset, the home team's winning percentage was higher for games in which they had both a Circadian Advantage and Disadvantage than games for which both teams had the same circadian score. However, when the advantage and disadvantage categories were tested against the neutral circadian games I found that the differences in winning percentage for both categories ultimately didn't meet the threshold for statistical significance. For the advantage category, the resulting p-value of .076 means that the resulting winning percentage of the advantage games would be expected to occur accross it's sample size 7.6% of the time under a normal distribution of the neutral circadian winning percentage.  The disadvantage category had an even higher p-value despite a better winning percentage due to smaller sample size. At .127, this p-value suggests that such a winning percentage would be achieved across that sample size 12.7% of the time under a normal distribution of the neutral circadian winning percentage.\n",
    "\n",
    "Ultimately it appears that the data proves the \"Circadian Advantage\" to be a myth."
   ]
  }
 ],
 "metadata": {
  "kernelspec": {
   "display_name": "Python 2",
   "language": "python",
   "name": "python2"
  },
  "language_info": {
   "codemirror_mode": {
    "name": "ipython",
    "version": 2
   },
   "file_extension": ".py",
   "mimetype": "text/x-python",
   "name": "python",
   "nbconvert_exporter": "python",
   "pygments_lexer": "ipython2",
   "version": "2.7.11"
  }
 },
 "nbformat": 4,
 "nbformat_minor": 0
}
